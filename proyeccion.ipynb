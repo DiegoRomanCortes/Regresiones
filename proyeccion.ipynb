{
  "nbformat": 4,
  "nbformat_minor": 0,
  "metadata": {
    "colab": {
      "name": "proyeccion.ipynb",
      "provenance": [],
      "authorship_tag": "ABX9TyOM40Gd4yjPaRCFOU4aqsws",
      "include_colab_link": true
    },
    "kernelspec": {
      "name": "python3",
      "display_name": "Python 3"
    }
  },
  "cells": [
    {
      "cell_type": "markdown",
      "metadata": {
        "id": "view-in-github",
        "colab_type": "text"
      },
      "source": [
        "<a href=\"https://colab.research.google.com/github/DiegoRomanCortes/Regresiones/blob/master/proyeccion.ipynb\" target=\"_parent\"><img src=\"https://colab.research.google.com/assets/colab-badge.svg\" alt=\"Open In Colab\"/></a>"
      ]
    },
    {
      "cell_type": "code",
      "metadata": {
        "id": "8I_uK6jpDeCL",
        "colab_type": "code",
        "colab": {}
      },
      "source": [
        "from matplotlib import pyplot as plt\n",
        "import numpy as np"
      ],
      "execution_count": 0,
      "outputs": []
    },
    {
      "cell_type": "markdown",
      "metadata": {
        "id": "9X-1XsnwGh8J",
        "colab_type": "text"
      },
      "source": [
        "Datos de casos confirmados de COVID-19 en Chile por día desde el 13 de marzo de 2020: [Fuente de Minsal](https://www.minsal.cl/nuevo-coronavirus-2019-ncov/casos-confirmados-en-chile-covid-19/)"
      ]
    },
    {
      "cell_type": "code",
      "metadata": {
        "id": "4eArxvDN5fg1",
        "colab_type": "code",
        "colab": {}
      },
      "source": [
        "t = np.array([0,1,2,3,4, 4.5]) #días transcurridos desde 13/03/2020 considerados hasta las 09:00 del mismo día\n",
        "#desde el 18 de marzo se toman los casos hasta las 21:00 del dia anterior\n",
        "x = np.array([43, 61, 75, 156, 201, 238]) #casos respectivos totales"
      ],
      "execution_count": 0,
      "outputs": []
    },
    {
      "cell_type": "markdown",
      "metadata": {
        "id": "v_B-pSN3EOg4",
        "colab_type": "text"
      },
      "source": [
        "$x = Ae^{Bt} \\implies y = \\ln{x} = \\ln{A} + Bt$\n"
      ]
    },
    {
      "cell_type": "code",
      "metadata": {
        "id": "tF2Si8IhEEwb",
        "colab_type": "code",
        "colab": {}
      },
      "source": [
        "z = np.polyfit(t, np.log(x), 1, w=np.sqrt(x)) #retorna coeficientes de mayor a menor\n",
        "#z = np.polyfit(t, np.log(x), 1) #w es la correción\n",
        "\n",
        "t_proy = np.arange(0, len(t) + 0.5, 0.5)\n",
        "y = z[1] + z[0]*t_proy\n",
        "\n",
        "x_fit = np.exp(y) #y = ln(x)"
      ],
      "execution_count": 0,
      "outputs": []
    },
    {
      "cell_type": "code",
      "metadata": {
        "id": "WeeKolwiEJ5Z",
        "colab_type": "code",
        "outputId": "9ee6889e-e433-477b-c48d-c37ee6bbd38f",
        "colab": {
          "base_uri": "https://localhost:8080/",
          "height": 295
        }
      },
      "source": [
        "plt.plot(t_proy, x_fit, \"k--\", label=\"Proyección\")\n",
        "plt.scatter(t, x, c=\"r\", label=\"Confirmados\")\n",
        "\n",
        "plt.xlabel(\"Días desde el 13/Mar/2020 a las 09:00\")\n",
        "plt.ylabel(\"Casos confirmados/proyectados\")\n",
        "plt.title(\"Proyección de COVID-19 con ajuste exponencial\")\n",
        "plt.xticks(t_proy)\n",
        "\n",
        "new = int(x_fit[len(t)*2 - 1])\n",
        "plt.scatter(t[-1] + 1, new, c='blue', marker='*', label=\"Siguiente\")\n",
        "\n",
        "plt.legend()\n",
        "plt.grid()"
      ],
      "execution_count": 4,
      "outputs": [
        {
          "output_type": "display_data",
          "data": {
            "image/png": "[encoded data removed]",
            "text/plain": [
              "<Figure size 432x288 with 1 Axes>"
            ]
          },
          "metadata": {
            "tags": []
          }
        }
      ]
    },
    {
      "cell_type": "code",
      "metadata": {
        "id": "kTy6B-OpzoMC",
        "colab_type": "code",
        "colab": {}
      },
      "source": [
        "delta = np.array([])\n",
        "i = 1\n",
        "while i < len(x):\n",
        "  delta = np.append(delta, x[i]-x[i-1])\n",
        "  i+=1\n",
        "\n",
        "tasa = np.array([])\n",
        "i = 1\n",
        "while i < len(delta):\n",
        "  tasa = np.append(tasa, delta[i]/delta[i-1])\n",
        "  i+=1"
      ],
      "execution_count": 0,
      "outputs": []
    },
    {
      "cell_type": "code",
      "metadata": {
        "id": "XOMlWxTkEbNC",
        "colab_type": "code",
        "outputId": "f1e210dc-57b0-420c-b51a-3cfbc9e7025f",
        "colab": {
          "base_uri": "https://localhost:8080/",
          "height": 68
        }
      },
      "source": [
        "print(\"El día siguiente habrá\", new, \"casos (proyección exponencial)\")\n",
        "print(\"Es decir,\", new - x[-1], \"casos nuevos\")\n",
        "print(\"La actual tasa de crecimiento es de\", tasa[-1]*100//1/100)"
      ],
      "execution_count": 6,
      "outputs": [
        {
          "output_type": "stream",
          "text": [
            "El día siguiente habrá 364 casos (proyección exponencial)\n",
            "Es decir, 126 casos nuevos\n",
            "La actual tasa de crecimiento es de 0.82\n"
          ],
          "name": "stdout"
        }
      ]
    }
  ]
}